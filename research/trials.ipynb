{
 "cells": [
  {
   "cell_type": "markdown",
   "id": "cb7d6731",
   "metadata": {},
   "source": [
    "##### Why we are importing ConfigBox is to enable us access dictionary keys directly w/out ref x[\"key\"] as usual."
   ]
  },
  {
   "cell_type": "code",
   "execution_count": 9,
   "id": "41d85dc4",
   "metadata": {},
   "outputs": [],
   "source": [
    "# Example of a Python dictionary used in the code:\n",
    "d = {\"key\": \"value\", \"key1\": \"value1\"}"
   ]
  },
  {
   "cell_type": "code",
   "execution_count": 10,
   "id": "bc2a3a9a",
   "metadata": {},
   "outputs": [
    {
     "data": {
      "text/plain": [
       "'value'"
      ]
     },
     "execution_count": 10,
     "metadata": {},
     "output_type": "execute_result"
    }
   ],
   "source": [
    "# Accessing the value of \"key1\" without ConfigBox\n",
    "d[\"key\"]"
   ]
  },
  {
   "cell_type": "code",
   "execution_count": 11,
   "id": "1ff185ae",
   "metadata": {},
   "outputs": [
    {
     "ename": "AttributeError",
     "evalue": "'dict' object has no attribute 'key'",
     "output_type": "error",
     "traceback": [
      "\u001b[31m---------------------------------------------------------------------------\u001b[39m",
      "\u001b[31mAttributeError\u001b[39m                            Traceback (most recent call last)",
      "\u001b[36mCell\u001b[39m\u001b[36m \u001b[39m\u001b[32mIn[11]\u001b[39m\u001b[32m, line 1\u001b[39m\n\u001b[32m----> \u001b[39m\u001b[32m1\u001b[39m \u001b[43md\u001b[49m\u001b[43m.\u001b[49m\u001b[43mkey\u001b[49m\n",
      "\u001b[31mAttributeError\u001b[39m: 'dict' object has no attribute 'key'"
     ]
    }
   ],
   "source": [
    "d.key"
   ]
  },
  {
   "cell_type": "code",
   "execution_count": 13,
   "id": "578e1ac2",
   "metadata": {},
   "outputs": [
    {
     "name": "stdout",
     "output_type": "stream",
     "text": [
      "{'key': 'value', 'key1': 'value1'}\n",
      "\n",
      "key: value\n"
     ]
    }
   ],
   "source": [
    "# Using ConfigBox to access the value of \"key1\"\n",
    "from box import ConfigBox\n",
    "d2 = ConfigBox({\"key\": \"value\", \"key1\": \"value1\"})\n",
    "print(d2)\n",
    "print()\n",
    "print(f\"key: {d2.key}\" )"
   ]
  }
 ],
 "metadata": {
  "kernelspec": {
   "display_name": "myenv",
   "language": "python",
   "name": "python3"
  },
  "language_info": {
   "codemirror_mode": {
    "name": "ipython",
    "version": 3
   },
   "file_extension": ".py",
   "mimetype": "text/x-python",
   "name": "python",
   "nbconvert_exporter": "python",
   "pygments_lexer": "ipython3",
   "version": "3.12.0"
  }
 },
 "nbformat": 4,
 "nbformat_minor": 5
}
