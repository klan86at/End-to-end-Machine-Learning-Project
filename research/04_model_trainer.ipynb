{
 "cells": [
  {
   "cell_type": "code",
   "execution_count": 1,
   "id": "029e6b68",
   "metadata": {},
   "outputs": [],
   "source": [
    "import os"
   ]
  },
  {
   "cell_type": "code",
   "execution_count": 2,
   "id": "566e1b3c",
   "metadata": {},
   "outputs": [
    {
     "data": {
      "text/plain": [
       "'d:\\\\End-to-end-Machine-Learning-Project\\\\research'"
      ]
     },
     "execution_count": 2,
     "metadata": {},
     "output_type": "execute_result"
    }
   ],
   "source": [
    "%pwd"
   ]
  },
  {
   "cell_type": "code",
   "execution_count": 3,
   "id": "9127334b",
   "metadata": {},
   "outputs": [],
   "source": [
    "# Move to project directory\n",
    "os.chdir(\"../\")"
   ]
  },
  {
   "cell_type": "code",
   "execution_count": 4,
   "id": "fd4965dc",
   "metadata": {},
   "outputs": [
    {
     "data": {
      "text/plain": [
       "'d:\\\\End-to-end-Machine-Learning-Project'"
      ]
     },
     "execution_count": 4,
     "metadata": {},
     "output_type": "execute_result"
    }
   ],
   "source": [
    "%pwd"
   ]
  },
  {
   "cell_type": "code",
   "execution_count": 5,
   "id": "3755932e",
   "metadata": {},
   "outputs": [],
   "source": [
    "from dataclasses import dataclass\n",
    "from pathlib import Path\n",
    "\n",
    "@dataclass(frozen=True)\n",
    "class ModelTrainerConfig:\n",
    "    root_dir: Path\n",
    "    train_data_path: Path\n",
    "    test_data_path: Path\n",
    "    model_name: str\n",
    "    alpha: float\n",
    "    l1_ratio: float\n",
    "    target_column: str\n",
    "    "
   ]
  },
  {
   "cell_type": "code",
   "execution_count": 6,
   "id": "70d360c2",
   "metadata": {},
   "outputs": [],
   "source": [
    "# Configuration manager temp Libraries\n",
    "from mlProject.constants import *\n",
    "from mlProject.utils.common import read_yaml, create_directories\n"
   ]
  },
  {
   "cell_type": "code",
   "execution_count": 7,
   "id": "e4786bba",
   "metadata": {},
   "outputs": [],
   "source": [
    "# Setting up configuration manager model trainer \n",
    "class ConfigurationManager:\n",
    "    def __init__ (\n",
    "        self,\n",
    "        config_filepath=CONFIG_FILE_PATH,\n",
    "        params_filepath=PARAMS_FILE_PATH,\n",
    "        schema_filepath=SCHEMA_FILE_PATH\n",
    "    ):\n",
    "        self.config = read_yaml(config_filepath)\n",
    "        self.params = read_yaml(params_filepath)\n",
    "        self.schema = read_yaml(schema_filepath)\n",
    "\n",
    "\n",
    "        create_directories([self.config.artifacts_root])\n",
    "\n",
    "        \n",
    "    def get_model_trainer_config(self) -> ModelTrainerConfig:\n",
    "        config = self.config.model_trainer\n",
    "        params = self.params.ElasticNet\n",
    "        #schema = self.schema.TARGET_COLUMN\n",
    "\n",
    "        model_trainer_config = ModelTrainerConfig(\n",
    "            root_dir = config.root_dir,\n",
    "            train_data_path = config.train_data_path,\n",
    "            test_data_path = config.test_data_path,\n",
    "            model_name = config.model_name,\n",
    "            alpha = params.alpha,\n",
    "            l1_ratio = params.l1_ratio,\n",
    "            target_column = params.target_column\n",
    "        )\n",
    "        return model_trainer_config\n",
    "\n",
    "\n"
   ]
  },
  {
   "cell_type": "code",
   "execution_count": 8,
   "id": "3153881c",
   "metadata": {},
   "outputs": [],
   "source": [
    "# Define componets dir\n",
    "import os\n",
    "import pandas as pd\n",
    "import joblib\n",
    "from mlProject import logger\n",
    "from sklearn.linear_model import ElasticNet\n",
    "\n"
   ]
  },
  {
   "cell_type": "code",
   "execution_count": null,
   "id": "e2e87de3",
   "metadata": {},
   "outputs": [],
   "source": [
    "# Implementing model trainer componentclass ModelTrainer:\n",
    "class ModelTrainer:\n",
    "    def __init__(self, config: ModelTrainerConfig):\n",
    "        self.config = config\n",
    "\n",
    "    def train(self):\n",
    "        logger.info(\"Loading training data\")\n",
    "        train_data = pd.read_csv(self.config.train_data_path)\n",
    "        test_data = pd.read_csv(self.config.test_data_path)\n",
    "\n",
    "        logger.info(\"Training model\")\n",
    "        model = ElasticNet(\n",
    "            alpha=self.config.alpha,\n",
    "            l1_ratio=self.config.l1_ratio,\n",
    "            random_state=42\n",
    "        )\n",
    "\n",
    "        X_train = train_data.drop(columns=[self.config.target_column])\n",
    "        X_test = test_data.drop(columns=[self.config.target_column])\n",
    "        y_train = train_data[self.config.target_column]\n",
    "        y_test = test_data[self.config.target_column]\n",
    "\n",
    "        model.fit(X_train, y_train)\n",
    "\n",
    "\n",
    "        # Save model\n",
    "        logger.info(\"Saving model\")\n",
    "        model_file_path = os.path.join(self.config.root_dir, self.config.model_name)\n",
    "        \n",
    "        # Create directory\n",
    "        try:\n",
    "            os.makedirs(os.path.dirname(model_file_path), exist_ok=True)\n",
    "            joblib.dump(model, model_file_path)\n",
    "        except Exception as e:\n",
    "            logger.error(f\"Failed to save model: {str(e)}\")\n",
    "            raise\n",
    "        \n",
    "        logger.info(f\"Model saved to {model_file_path}\")\n",
    "\n",
    "       "
   ]
  },
  {
   "cell_type": "code",
   "execution_count": 10,
   "id": "0e193051",
   "metadata": {},
   "outputs": [
    {
     "name": "stdout",
     "output_type": "stream",
     "text": [
      "[2025-07-02 15:15:25,486: INFO: common: YAML file config\\config.yaml loaded successfully.]\n",
      "[2025-07-02 15:15:25,491: INFO: common: YAML file params.yaml loaded successfully.]\n"
     ]
    },
    {
     "name": "stdout",
     "output_type": "stream",
     "text": [
      "[2025-07-02 15:15:25,498: INFO: common: YAML file schema.yaml loaded successfully.]\n",
      "[2025-07-02 15:15:25,502: INFO: common: Created directory: artifacts]\n",
      "[2025-07-02 15:15:25,506: INFO: 2906954383: Loading training data]\n",
      "[2025-07-02 15:15:25,523: INFO: 2906954383: Training model]\n",
      "[2025-07-02 15:15:25,538: INFO: 2906954383: Saving model]\n",
      "[2025-07-02 15:15:25,552: INFO: 2906954383: Model saved to artifacts/model_trainer\\model.joblib]\n"
     ]
    }
   ],
   "source": [
    "# Setting up the model trainer pipeline\n",
    "try:\n",
    "    config = ConfigurationManager()\n",
    "    model_trainer_config = config.get_model_trainer_config()\n",
    "    model_trainer_config = ModelTrainer(config=model_trainer_config)\n",
    "    model_trainer_config.train()\n",
    "except Exception as e:\n",
    "    raise e\n"
   ]
  },
  {
   "cell_type": "code",
   "execution_count": null,
   "id": "af3d472e",
   "metadata": {},
   "outputs": [],
   "source": []
  }
 ],
 "metadata": {
  "kernelspec": {
   "display_name": "myenv",
   "language": "python",
   "name": "python3"
  },
  "language_info": {
   "codemirror_mode": {
    "name": "ipython",
    "version": 3
   },
   "file_extension": ".py",
   "mimetype": "text/x-python",
   "name": "python",
   "nbconvert_exporter": "python",
   "pygments_lexer": "ipython3",
   "version": "3.12.0"
  }
 },
 "nbformat": 4,
 "nbformat_minor": 5
}
