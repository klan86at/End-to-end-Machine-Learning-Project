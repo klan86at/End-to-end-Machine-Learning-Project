{
 "cells": [
  {
   "cell_type": "code",
   "execution_count": 1,
   "id": "6b1eaa13",
   "metadata": {},
   "outputs": [],
   "source": [
    "import os"
   ]
  },
  {
   "cell_type": "code",
   "execution_count": 2,
   "id": "dc604460",
   "metadata": {},
   "outputs": [
    {
     "data": {
      "text/plain": [
       "'d:\\\\End-to-end-Machine-Learning-Project\\\\research'"
      ]
     },
     "execution_count": 2,
     "metadata": {},
     "output_type": "execute_result"
    }
   ],
   "source": [
    "%pwd"
   ]
  },
  {
   "cell_type": "code",
   "execution_count": 3,
   "id": "37b2eb8e",
   "metadata": {},
   "outputs": [],
   "source": [
    "# To move to project folder\n",
    "os.chdir(\"../\")"
   ]
  },
  {
   "cell_type": "code",
   "execution_count": 4,
   "id": "c2fa5849",
   "metadata": {},
   "outputs": [
    {
     "data": {
      "text/plain": [
       "'d:\\\\End-to-end-Machine-Learning-Project'"
      ]
     },
     "execution_count": 4,
     "metadata": {},
     "output_type": "execute_result"
    }
   ],
   "source": [
    "%pwd"
   ]
  },
  {
   "cell_type": "code",
   "execution_count": null,
   "id": "7824ea20",
   "metadata": {},
   "outputs": [],
   "source": [
    "# Updating the entity item in workflow list\n",
    "from dataclasses import dataclass\n",
    "from pathlib import Path\n",
    "\n",
    "@dataclass(frozen=True)\n",
    "class DataIngestionConfig:\n",
    "    root_dir: Path\n",
    "    source_url: str\n",
    "    local_data_file: Path\n",
    "    unzip_dir: Path\n",
    "\n",
    "    # def __post_init__(self):\n",
    "    #     # Ensure that the paths are absolute\n",
    "    #     self.root_dir = Path(self.root_dir).resolve()\n",
    "    #     self.local_data_file = Path(self.local_data_file).resolve()\n",
    "    #     self.unzip_dir = Path(self.unzip_dir).resolve()"
   ]
  },
  {
   "cell_type": "code",
   "execution_count": 7,
   "id": "e9055a94",
   "metadata": {},
   "outputs": [],
   "source": [
    "from mlProject.constants import *\n",
    "from mlProject.utils.common import read_yaml, create_directories"
   ]
  },
  {
   "cell_type": "code",
   "execution_count": 8,
   "id": "bd8b6bcf",
   "metadata": {},
   "outputs": [],
   "source": [
    "# Updating configuration mgr in src\n",
    "class ConfigurationManager:\n",
    "    def __init__(\n",
    "        self,\n",
    "        config_filepath = CONFIG_FILE_PATH,\n",
    "        params_filepath = PARAMS_FILE_PATH,\n",
    "        schema_filepath = SCHEMA_FILE_PATH):\n",
    "\n",
    "        self.config = read_yaml(config_filepath)\n",
    "        self.params = read_yaml(params_filepath)\n",
    "        self.schema = read_yaml(schema_filepath)\n",
    "\n",
    "        create_directories([self.config.artifacts_root])\n",
    "\n",
    "\n",
    "    def get_data_ingestion_config(self) -> DataIngestionConfig:\n",
    "        config = self.config.data_ingestion\n",
    "\n",
    "        create_directories([config.root_dir])\n",
    "\n",
    "        data_ingestion_config = DataIngestionConfig(\n",
    "            root_dir=config.root_dir,\n",
    "            source_url=config.source_url,\n",
    "            local_data_file=config.local_data_file,\n",
    "            unzip_dir=config.unzip_dir\n",
    "        )\n",
    "\n",
    "        return data_ingestion_config"
   ]
  },
  {
   "cell_type": "code",
   "execution_count": null,
   "id": "1e13be5d",
   "metadata": {},
   "outputs": [],
   "source": [
    "# Updating the components item in workflow list\n",
    "import os\n",
    "import urllib.request as request\n",
    "import zipfile\n",
    "from mlProject import logger\n",
    "from mlProject.utils.common import get_size"
   ]
  },
  {
   "cell_type": "code",
   "execution_count": 10,
   "id": "a75d8dcb",
   "metadata": {},
   "outputs": [],
   "source": [
    "# Function for downloading and extracting data\n",
    "class DataIngestion:\n",
    "    def __init__(self, config: DataIngestionConfig):\n",
    "        self.config = config\n",
    "\n",
    "    def download_file(self):\n",
    "        if not os.path.exists(self.config.local_data_file):\n",
    "            filename, headers = request.urlretrieve(\n",
    "                url = self.config.source_url,\n",
    "                filename = self.config.local_data_file\n",
    "            )\n",
    "            logger.info(f\"{filename} download! with the following info: \\n{headers}\")\n",
    "        else:\n",
    "            logger.info(f\"File already exists of size: {get_size(Path(self.config.local_data_file))}\")\n",
    "\n",
    "# To extract the zip file\n",
    "    def extract_zip_file(self):\n",
    "        \"\"\"\n",
    "        zip_file_path: str\n",
    "        Extracts the zip file into the data directory\n",
    "        function returns None\n",
    "        \"\"\"\n",
    "        unzip_path = self.config.unzip_dir\n",
    "        os.makedirs(unzip_path, exist_ok=True)\n",
    "        with zipfile.ZipFile(self.config.local_data_file, 'r') as zip_ref:\n",
    "            zip_ref.extractall(unzip_path)"
   ]
  },
  {
   "cell_type": "code",
   "execution_count": 12,
   "id": "f90bd664",
   "metadata": {},
   "outputs": [
    {
     "name": "stdout",
     "output_type": "stream",
     "text": [
      "[2025-07-01 14:25:23,712: INFO: common: YAML file config\\config.yaml loaded successfully.]\n",
      "[2025-07-01 14:25:23,719: INFO: common: YAML file params.yaml loaded successfully.]\n",
      "[2025-07-01 14:25:23,726: INFO: common: YAML file schema.yaml loaded successfully.]\n",
      "[2025-07-01 14:25:23,730: INFO: common: Created directory: artifacts]\n",
      "[2025-07-01 14:25:23,738: INFO: common: Created directory: artifacts/data_ingestion]\n"
     ]
    },
    {
     "name": "stdout",
     "output_type": "stream",
     "text": [
      "[2025-07-01 14:25:26,442: INFO: 2928369538: artifacts/data_ingestion/data.zip download! with the following info: \n",
      "Connection: close\n",
      "Content-Length: 23329\n",
      "Cache-Control: max-age=300\n",
      "Content-Security-Policy: default-src 'none'; style-src 'unsafe-inline'; sandbox\n",
      "Content-Type: application/zip\n",
      "ETag: \"c69888a4ae59bc5a893392785a938ccd4937981c06ba8a9d6a21aa52b4ab5b6e\"\n",
      "Strict-Transport-Security: max-age=31536000\n",
      "X-Content-Type-Options: nosniff\n",
      "X-Frame-Options: deny\n",
      "X-XSS-Protection: 1; mode=block\n",
      "X-GitHub-Request-Id: 87C9:1E80B3:E8FB:31C23:6863C5A5\n",
      "Accept-Ranges: bytes\n",
      "Date: Tue, 01 Jul 2025 11:25:25 GMT\n",
      "Via: 1.1 varnish\n",
      "X-Served-By: cache-jnb7023-JNB\n",
      "X-Cache: MISS\n",
      "X-Cache-Hits: 0\n",
      "X-Timer: S1751369126.621623,VS0,VE262\n",
      "Vary: Authorization,Accept-Encoding\n",
      "Access-Control-Allow-Origin: *\n",
      "Cross-Origin-Resource-Policy: cross-origin\n",
      "X-Fastly-Request-ID: e4ed42c616de92d472e35e6e702b25ec87fd09ed\n",
      "Expires: Tue, 01 Jul 2025 11:30:25 GMT\n",
      "Source-Age: 0\n",
      "\n",
      "]\n"
     ]
    }
   ],
   "source": [
    "# Updating the pipeline item on the workflow list\n",
    "try:\n",
    "    config = ConfigurationManager()\n",
    "    data_ingestion_config = config.get_data_ingestion_config()\n",
    "    data_ingestion = DataIngestion(config=data_ingestion_config)\n",
    "    data_ingestion.download_file()\n",
    "    data_ingestion.extract_zip_file()\n",
    "except Exception as e:\n",
    "    raise e"
   ]
  }
 ],
 "metadata": {
  "kernelspec": {
   "display_name": "myenv",
   "language": "python",
   "name": "python3"
  },
  "language_info": {
   "codemirror_mode": {
    "name": "ipython",
    "version": 3
   },
   "file_extension": ".py",
   "mimetype": "text/x-python",
   "name": "python",
   "nbconvert_exporter": "python",
   "pygments_lexer": "ipython3",
   "version": "3.12.0"
  }
 },
 "nbformat": 4,
 "nbformat_minor": 5
}
