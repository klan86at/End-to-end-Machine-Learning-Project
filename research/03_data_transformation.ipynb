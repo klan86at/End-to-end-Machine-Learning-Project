{
 "cells": [
  {
   "cell_type": "code",
   "execution_count": 1,
   "id": "9daae4ac",
   "metadata": {},
   "outputs": [],
   "source": [
    "import os"
   ]
  },
  {
   "cell_type": "code",
   "execution_count": 2,
   "id": "6a235ae1",
   "metadata": {},
   "outputs": [
    {
     "data": {
      "text/plain": [
       "'d:\\\\End-to-end-Machine-Learning-Project\\\\research'"
      ]
     },
     "execution_count": 2,
     "metadata": {},
     "output_type": "execute_result"
    }
   ],
   "source": [
    "%pwd"
   ]
  },
  {
   "cell_type": "code",
   "execution_count": 3,
   "id": "077b7a29",
   "metadata": {},
   "outputs": [],
   "source": [
    "# Change to the project directory\n",
    "os.chdir(\"../\")"
   ]
  },
  {
   "cell_type": "code",
   "execution_count": 4,
   "id": "78c5b63e",
   "metadata": {},
   "outputs": [
    {
     "data": {
      "text/plain": [
       "'d:\\\\End-to-end-Machine-Learning-Project'"
      ]
     },
     "execution_count": 4,
     "metadata": {},
     "output_type": "execute_result"
    }
   ],
   "source": [
    "%pwd"
   ]
  },
  {
   "cell_type": "code",
   "execution_count": 18,
   "id": "6192837e",
   "metadata": {},
   "outputs": [],
   "source": [
    "from dataclasses import dataclass\n",
    "from pathlib import Path\n",
    "\n",
    "@dataclass(frozen=True)\n",
    "class DataTransformationConfig:\n",
    "    root_dir: Path\n",
    "    data_path: Path"
   ]
  },
  {
   "cell_type": "code",
   "execution_count": 6,
   "id": "d72cdc7a",
   "metadata": {},
   "outputs": [],
   "source": [
    "# Update configuration manager\n",
    "from mlProject.constants import*\n",
    "from mlProject.utils.common import read_yaml, create_directories\n"
   ]
  },
  {
   "cell_type": "code",
   "execution_count": 14,
   "id": "295e2968",
   "metadata": {},
   "outputs": [],
   "source": [
    "class ConfigurationManager:\n",
    "    def __init__ (\n",
    "        self,\n",
    "        config_filepath=CONFIG_FILE_PATH,\n",
    "        params_filepath=PARAMS_FILE_PATH,\n",
    "        schema_filepath=SCHEMA_FILE_PATH\n",
    "    ):\n",
    "        self.config = read_yaml(config_filepath)\n",
    "        self.params = read_yaml(params_filepath)\n",
    "        self.schema = read_yaml(schema_filepath)\n",
    "\n",
    "\n",
    "        create_directories([self.config.artifacts_root])\n",
    "\n",
    "\n",
    "    def get_data_transformation_config(self)-> DataTransformationConfig:\n",
    "        config = self.config.data_transformation\n",
    "\n",
    "        create_directories([config.root_dir])\n",
    "\n",
    "        # Create DataTransformationConfig instance\n",
    "        data_transformation_config = DataTransformationConfig(\n",
    "            root_dir=config.root_dir,\n",
    "            data_path=config.data_path\n",
    "        )\n",
    "        return data_transformation_config\n",
    "    "
   ]
  },
  {
   "cell_type": "code",
   "execution_count": 9,
   "id": "51e1cabb",
   "metadata": {},
   "outputs": [],
   "source": [
    "# Updating the componets bit\n",
    "import os\n",
    "import pandas as pd\n",
    "import numpy as np\n",
    "from mlProject import logger\n",
    "from sklearn.model_selection import train_test_split\n",
    "\n"
   ]
  },
  {
   "cell_type": "code",
   "execution_count": 15,
   "id": "9005ad32",
   "metadata": {},
   "outputs": [],
   "source": [
    "# Setting up data transformation class\n",
    "class DataTransformation:\n",
    "    def __init__(self, config: DataTransformationConfig):\n",
    "        self.config = config\n",
    "\n",
    "    def get_data(self) -> pd.DataFrame:\n",
    "        data = pd.read_csv(self.config.data_path)\n",
    "        return data\n",
    "\n",
    "    def split_data(self, data: pd.DataFrame) -> tuple:\n",
    "        train, test = train_test_split(data, test_size=0.2, random_state=42)\n",
    "\n",
    "        logger.info(f\"Split data into training and test sets\")\n",
    "        logger.info(train.shape)\n",
    "        logger.info(test.shape)\n",
    "\n",
    "        print(train.shape)\n",
    "        print(test.shape)\n",
    "\n",
    "        return train, test\n",
    "\n",
    "    def save_data(self, train: pd.DataFrame, test: pd.DataFrame):\n",
    "        train.to_csv(os.path.join(self.config.root_dir, 'train.csv'), index=False)\n",
    "        test.to_csv(os.path.join(self.config.root_dir, 'test.csv'), index=False)\n",
    "\n",
    "        logger.info(f\"Saved train and test data to {self.config.root_dir}\")\n",
    "\n",
    "\n"
   ]
  },
  {
   "cell_type": "code",
   "execution_count": 19,
   "id": "298d5e04",
   "metadata": {},
   "outputs": [
    {
     "name": "stdout",
     "output_type": "stream",
     "text": [
      "[2025-07-02 09:36:04,724: INFO: common: YAML file config\\config.yaml loaded successfully.]\n",
      "[2025-07-02 09:36:04,731: INFO: common: YAML file params.yaml loaded successfully.]\n",
      "[2025-07-02 09:36:04,733: INFO: common: YAML file schema.yaml loaded successfully.]\n",
      "[2025-07-02 09:36:04,733: INFO: common: Created directory: artifacts]\n",
      "[2025-07-02 09:36:04,738: INFO: common: Created directory: artifacts/data_transformation]\n"
     ]
    },
    {
     "name": "stdout",
     "output_type": "stream",
     "text": [
      "[2025-07-02 09:36:04,806: INFO: 1141663983: Split data into training and test sets]\n",
      "[2025-07-02 09:36:04,806: INFO: 1141663983: (1279, 12)]\n",
      "[2025-07-02 09:36:04,806: INFO: 1141663983: (320, 12)]\n",
      "(1279, 12)\n",
      "(320, 12)\n",
      "[2025-07-02 09:36:04,863: INFO: 1141663983: Saved train and test data to artifacts/data_transformation]\n"
     ]
    }
   ],
   "source": [
    "# Setting up data transformation pipeline\n",
    "try:\n",
    "    config = ConfigurationManager()\n",
    "    data_transformation_config = config.get_data_transformation_config()\n",
    "    data_transformation = DataTransformation(config=data_transformation_config)\n",
    "    data = data_transformation.get_data()\n",
    "    train, test = data_transformation.split_data(data)\n",
    "    data_transformation.save_data(train, test)\n",
    "except Exception as e:\n",
    "    raise e\n",
    "# --- END OF FILE ---\n",
    "# File: 03_data_transformation.ipynb\n",
    "\n"
   ]
  },
  {
   "cell_type": "code",
   "execution_count": null,
   "id": "fd80b218",
   "metadata": {},
   "outputs": [],
   "source": []
  }
 ],
 "metadata": {
  "kernelspec": {
   "display_name": "myenv",
   "language": "python",
   "name": "python3"
  },
  "language_info": {
   "codemirror_mode": {
    "name": "ipython",
    "version": 3
   },
   "file_extension": ".py",
   "mimetype": "text/x-python",
   "name": "python",
   "nbconvert_exporter": "python",
   "pygments_lexer": "ipython3",
   "version": "3.12.0"
  }
 },
 "nbformat": 4,
 "nbformat_minor": 5
}
